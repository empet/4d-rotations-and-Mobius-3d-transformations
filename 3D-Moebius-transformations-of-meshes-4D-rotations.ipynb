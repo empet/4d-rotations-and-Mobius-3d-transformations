{
 "cells": [
  {
   "cell_type": "markdown",
   "metadata": {},
   "source": [
    "##  3D Mobius transformation of  meshes. 4D Rotations "
   ]
  },
  {
   "cell_type": "markdown",
   "metadata": {},
   "source": [
    "### 3D Mobius transformations"
   ]
  },
  {
   "cell_type": "markdown",
   "metadata": {},
   "source": [
    "$\\newcommand{\\R}{\\mathbb{R}}$\n",
    "$\\newcommand{\\C}{\\mathbb{C}}$\n",
    "$\\newcommand{\\th}{\\theta}$\n",
    "$\\newcommand{\\lam}{\\lambda}$\n",
    "$\\newcommand{\\ovl}{\\overline}$\n",
    "$\\newcommand{\\ds}{\\displaystyle}$\n",
    "$\\newcommand{\\barr}{\\begin{array}}$\n",
    "$\\newcommand{\\earr}{\\end{array}}$\n",
    "$\\newcommand{\\bea}{\\begin{eqnarray}}$\n",
    "$\\newcommand{\\eea}{\\end{eqnarray}}$\n",
    "$\\newcommand{\\beq}{\\begin{equation}}$\n",
    "$\\newcommand{\\eeq}{\\end{equation}}$"
   ]
  },
  {
   "cell_type": "markdown",
   "metadata": {},
   "source": [
    "The classical [Mobius transformation](https://en.wikipedia.org/wiki/M%C3%B6bius_transformation) is  known as acting on the extended complex plane, identified to the extended space, $\\hat{\\mathbb{R}}^2=\\mathbb{R}^2\\cup \\{\\infty\\}$. But is there a Mobius transformation that acts on the extended space $\\hat{\\mathbb{R}}^n$, $n>2$? The answer is positive, and the definition and construction of such a transformation is presented in detail in the excellent book, by Alan F. Beardon -  *The geometry of discrete groups*, Springer, 1995 (chapter 3, Mobius transformation on $\\mathbb{R}^n$).\n",
    "The presentation from this book, and an article from Notices of AMS, [https://www.ams.org/notices/200810/tx081001226p.pdf](https://www.ams.org/notices/200810/tx081001226p.pdf), suggested how we can apply a Mobius transformation to a 3d mesh.\n",
    "\n",
    "By these references   a  Möbius transformation  on the 3d extended space can be defined as the transformation that maps this  space through  the inverse of the stereographic projection onto an admissible sphere $S(a, R) =\\{(x,y, z, u)\\in\\mathbb{R}^4\\:|\\: (x-a_1)^2+(y-a_2)^2+(z-a_3)^2+(u-a_u)^2=R^2\\}$  in the space $\\mathbb{R^4}$ (i.e. a sphere for which the  north pole $N(a_1, a_2, a_3, a_4+R)$, lies in the upper half-space $H=\\{(x, y, z, u)\\in\\mathbb{R}^4\\:|\\: u>0\\}$,\n",
    " followed by a rigid motion (rotation+translation) of the sphere in $\\mathbb{R}^4$,  which maps it to another admissible sphere, and finally mapping the last sphere, back to the space $\\mathbb{R}^3$,  by the stereographic projection.\n",
    " Following Chapter 3 from Beardon's book and this method of construction, valid for Mobius transformation in any dimension,  we can illustrate visually, how a Mobius transformation defined on the 3d space acts on a 3d mesh."
   ]
  },
  {
   "cell_type": "markdown",
   "metadata": {},
   "source": [
    "In Computer Graphics a 3d mesh is a numerical representation of a 3d model (surface or volume). It consists in two arrays,\n",
    "the array of vertices and the array of polygons (usually quadrangles and triangles). \n",
    "The array of vertices (of shape (m, 3)) contains on rows their x, y, z coordinates, while the array of quadrangles/triangles is\n",
    "and array of integers, of shape (n, 4) or (n, 3), where each row,  contains the indices in the array of vertices, of the points that define the corresponding polygon.\n",
    "\n",
    "This repository is dedicated to  illustrating how a 3d mesh is deformed  by a Mobius transformation that acts as follows:\n",
    "  - map the mesh vertices to the 3-dimesnional unit sphere, $S^3$,  in the 4d space, by the inverse of the stereographic projection.\n",
    "  - rotate   the spherical mesh vertices, by a 4d rotation, which is known as  leaving the sphere invariant (maps points on sphere onto points on sphere);\n",
    "  - eventually translate the initial unit sphere to an admissible unit (of radius =1) sphere in $\\R^4$;\n",
    "  -  map back to the 3d space the rotated and translated sphere vertices, through the stereographic projection from the corresponding sphere  to $\\hat{\\mathbb{R}}^3$.\n",
    "  \n",
    "  The projected points as vertices and the initial mesh polygons define a Mobius transformed 3d mesh.\n",
    "\n",
    "A Mobius transformation is a conformal transformation (i.e. a transformation that preserves the angles, but not the lengths), because it is a composition of conformal mappings (the stereographic projection and its inverse) to a rigid transformation."
   ]
  },
  {
   "cell_type": "markdown",
   "metadata": {},
   "source": [
    "The stereographic projection from an admissible  unit sphere, of center $C(c_1, c_2, c_3, c_4)$, $S^3=\\{(x, y, z, u)\\in\\mathbb{R}^4\\:|\\: (x-c_1)^2+(y-c_2)^2+(z-c_3)^2+(u-c_4)^2=1\\}$,\n",
    "to the euclidean space $\\mathbb{R}^3$, is defined similarly to the stereographic projection from the sphere $S^2$ to $\\mathbb{R}^2$. \n",
    "Namely, it associates to each point, $P(x,y,z, u)$, on the sphere, the point of intersection of the line through the north pole, \n",
    "$N(c_1, c_2, c_3, c_4+1)$, and P, to the space $\\mathbb{R}^3$, identified with  the subspace of $\\mathbb{R}^4$, defined by $\\{(x,y,z,u)\\:|\\: u=0\\}$. Similarly one defines the inverse of  the stereographic projection.\n",
    "\n",
    "The functions `stereo_aS3_R3()`, `inv_stereo_aS3()`, from `mobius3d`, implement the stereographic projection and its inverse.\n",
    "\n",
    "An important step in defining a 3d Mobius transformation is the 4d rotation. Below we present in details the definition and\n",
    "the orthogonal decomposition of a 4d rotation, as a key point in defining  interesting Mobius 3d transformations of  3d meshes."
   ]
  },
  {
   "cell_type": "markdown",
   "metadata": {},
   "source": [
    "### 4D rotation - orthogonal decomposition"
   ]
  },
  {
   "cell_type": "markdown",
   "metadata": {},
   "source": [
    "A 4d rotation, $Rot:\\R^4\\to\\R^4$, is represented by an orientation preserving orthogonal matrix, Q, i.e. $Q^TQ=QQ^T = Id_4$, and determinant(Q)=1.\n",
    "From orthogonality property it follows that the columns of such a matrix are real-orthonormal vectors. \n",
    "\n",
    "But the orthogonal matrices are particular normal matrices. That's why we are  point out, below, the basic properties of normal matrices.\n",
    "\n",
    "\n",
    "Let $\\C^n$  be the n-dimensional complex space, with the hermitian inner product defined by:\n",
    "$$<v, w> =\\sum_{k=1}^n \\ovl{z}_kz'_k = v^*w, \\forall\\:\\: v=(z_1, z_2,  \\ldots, z_n)^T, w=(z'_1, z'_2, \\ldots, z'_n)^T \\in \\C^n$$\n",
    "($v^*$ denotes the conjugate transpose of v). This inner product induces the standard inner product on the space $\\R^n$.\n",
    "\n",
    "A complex $n\\times n$ -  matrix, $A$,  is a normal matrix if $A^*A=AA^*$, where $A^*=\\ovl{A}^T$, denotes the conjugate transpose of $A$.\n",
    "A unitary matrix, $U$, i.e. a matrix with the property $U^*U=UU^*=Id$, and in particular an  orthogonal matrix, $Q$, is a normal matrix.\n",
    "\n",
    "Spectral properties of normal matrices:\n",
    "\n",
    " 1. The algebraic multiplicity of an eigenvalue coincides with its geometric multiplicity.\n",
    " 2. To distinct eigenvalues, $\\lam\\neq \\mu$,  correspond  orthogonal eigenvectors, $v, w$, i.e.  $v^*w=0$.\n",
    " \n",
    "These two properties ensure that for any normal matrix, $A$, there is an orthonormal basis in $\\C^n$, consisting in  eigenvectors of $A$, and the matrix $A$ can be decomposed as $A= V D V^*$, where  $D$ is the diagonal matrix of its eigenvalues, and $V$ is the unitary matrix with the corresponding orthonormal eigenvectors on its columns. Hence a normal matrix is diagonalizable by a unitary matrix, and $A=V D V^*$ is called unitary decomposition.\n",
    "\n",
    " Being an orientation preserving orthogonal matrix, a rotation  is a rigid transformation, i.e. $||Qv||=||v||$ (it preserves lengths and angles). In particular if $v$ is an eigenvector, $Qv=\\lam v$, we get that  $||v||=||Qv|=||\\lam v||= |\\lam|||v||$, i.e. $|\\lam|=1$. Hence the eigenvalues of a rotation matrix lie on the unit circle (they are of the form $\\lam, \\ovl{\\lam}=a\\pm ib$, $a^2+b^2=1$ or equivalently, $\\lam, \\ovl{\\lam}=e^{\\pm it}=\\cos(t)+i\\sin(t)$, for some $t\\in (-\\pi, \\pi]$.\n",
    "If $t=0$ we get  the eigenvalue 1 which can be   a double eigenvalue or an eigenvalue multiple of order 4, while for $t=\\pi$, -1 is a double eigenvalue or  multiple of order 4.\n",
    "\n",
    "From the spectral properties of normal matrices we get that for a 4d rotation, $Q$,  we have the  unitary decomposition:\n",
    "\n",
    "$$Q= V D V^*$$\n",
    "where $D$ is the diagonal matrix of its eigenvalues $\\lam_1, \\lam_2\\lam_3\\lam_4\\in\\C$, and $V$ has as columns the orthonormal   eigenvectors, with respect to the hermitian inner product in $\\C^4$), corresponding to these eigenvalues.\n",
    "\n",
    "The numpy function `np.linalg.eig` identifies orthogonal matrices and returns V, as a unitary matrix.\n"
   ]
  },
  {
   "cell_type": "markdown",
   "metadata": {},
   "source": [
    "A method to generate an  example of 4d rotation is to get the $QR$ decomposition of a random  real $4\\times 4$-matrix:"
   ]
  },
  {
   "cell_type": "code",
   "execution_count": 1,
   "metadata": {},
   "outputs": [],
   "source": [
    "import numpy as np\n",
    "\n",
    "def get_rotation(A, det_tol=1.e-10):\n",
    "    #returns the Q matrix from the QR-decomposition of the given matrix, A, and its eigenvals and eigenvect\n",
    "    if A.ndim !=2 or A.shape[0] != A.shape[1] != 4:\n",
    "        raise ValueError('A must have the shape (4,4)')\n",
    "    Q, _ = np.linalg.qr(A)\n",
    "    if abs(np.linalg.det(Q)+1) < det_tol: # if det(Q) is close to  -1 revert two columns in Q\n",
    "        Q = np.array([Q[:, 1], Q[:, 0], Q[:, 2], Q[:, 3]]).T\n",
    "    eigvalues, V = np.linalg.eig(Q)\n",
    "    return Q, eigvalues, V"
   ]
  },
  {
   "cell_type": "code",
   "execution_count": 2,
   "metadata": {},
   "outputs": [],
   "source": [
    "A = np.array([[ 2, -1,  3, -1],\n",
    "              [-3,  0,  2,  0],\n",
    "              [ 1,  0,  0,  2],\n",
    "              [ 0,  1,  3, -1]])\n",
    "Q, lam, V = get_rotation(A)"
   ]
  },
  {
   "cell_type": "markdown",
   "metadata": {},
   "source": [
    "Check orthogonality:"
   ]
  },
  {
   "cell_type": "code",
   "execution_count": 3,
   "metadata": {},
   "outputs": [
    {
     "data": {
      "text/plain": [
       "5.177377601847236e-16"
      ]
     },
     "execution_count": 3,
     "metadata": {},
     "output_type": "execute_result"
    }
   ],
   "source": [
    "np.linalg.norm(Q.T @ Q-np.eye(4)) #Frobenius norm of the matrix difference Q^TQ-Id_4"
   ]
  },
  {
   "cell_type": "code",
   "execution_count": 4,
   "metadata": {},
   "outputs": [
    {
     "data": {
      "text/plain": [
       "True"
      ]
     },
     "execution_count": 4,
     "metadata": {},
     "output_type": "execute_result"
    }
   ],
   "source": [
    "np.linalg.det(Q) > 0"
   ]
  },
  {
   "cell_type": "code",
   "execution_count": 5,
   "metadata": {},
   "outputs": [
    {
     "data": {
      "text/plain": [
       "array([-0.84420342+0.53602294j, -0.84420342-0.53602294j,\n",
       "        0.9288035 +0.37057261j,  0.9288035 -0.37057261j])"
      ]
     },
     "execution_count": 5,
     "metadata": {},
     "output_type": "execute_result"
    }
   ],
   "source": [
    "lam  #eiegenvalues of the matrix Q"
   ]
  },
  {
   "cell_type": "markdown",
   "metadata": {},
   "source": [
    "Hence our othogonal matrix has two distinct pairs of complex conjugate eigenvalues. The corresponding orthonormal vectors\n",
    "are the columns of the unitary matrix V:"
   ]
  },
  {
   "cell_type": "markdown",
   "metadata": {},
   "source": [
    "Check if  $V$ is a unitary matrix:"
   ]
  },
  {
   "cell_type": "code",
   "execution_count": 6,
   "metadata": {},
   "outputs": [
    {
     "data": {
      "text/plain": [
       "2.9249508704071502e-15"
      ]
     },
     "execution_count": 6,
     "metadata": {},
     "output_type": "execute_result"
    }
   ],
   "source": [
    "P = np.matrix(V).getH()  @ V  #  np.matrix(V) converts V to a numpy.matrix W, W.getH() is the conjugate transpose of W\n",
    "np.linalg.norm (P- np.eye(4))  #  distance to Id_4"
   ]
  },
  {
   "cell_type": "markdown",
   "metadata": {},
   "source": [
    "In order to point out how a 4d rotation,  $Q$, acts on points from  ℝ4, in particular on the sphere from  $\\R^4$, we are converting the unitary decomposition of  𝑄  into an orthogonal decomposition,  $Q=UR_kU^T$ , where  $U$  is an orthogonal matrix,\n",
    "and  $R_k$, $k=1, 2$  is a particular rotation matrix derived from the complex eigenvalues the matrix $Q$ ."
   ]
  },
  {
   "cell_type": "markdown",
   "metadata": {},
   "source": [
    "The diagonal matrix $D$, from the unitary decomposition $Q=V D V^*$, is  the representative matrix of the rotation with respect to the basis $B'=(v_1, v_2, v, v_4)$, consisting in the columns of $V$\n",
    "\n",
    "**a)** If $\\lam_1, \\lam_2=1, and \\lam_3, \\lam_4 = e^{\\pm it}$, for some $t\\in (-\\pi, \\pi]\\setminus\\{0\\})$, \n",
    "then from the basis $\\mathcal{B}'$ we extract an orthonormal basis in $\\R^4$, $\\mathcal{B}''=(u_1, u_2, u_3, u_4)$, as follows:\n",
    "$$u_1=v_1, u_2=v_2, u_3 =\\ds\\frac{1}{\\sqrt{2}} (v_3 +v_4), u_4 =\\ds\\frac{1}{i\\sqrt{2}} (v_3 -v_4)$$                              where $v_4=\\ovl{v}_3$ (to complex conjugate eigenvalues correspond complex conjugate eigenvectors). \n",
    "\n",
    "Note that although the complex conjugate vectors, $v_3, v_4$,  are unit vectors with respect to the norm in $\\C^4$, their real part $(v_3+v_4)/2$ and imaginary part, $(v_3-v_4)/2i$, do not have unit norm. The factors $\\ds\\frac{1}{\\sqrt{2}}$, $\\ds\\frac{1}{i\\sqrt{2}}$ ensure that the corresponding real vectors are unit vectors.\n",
    "\n",
    "It is a simple excercise to show that  $\\mathcal{B}''$ is an orthonormal basis (the orthogonality of the first two vectors is obvious, while for example, $<u_1, u_3> = <v_1, \\ds\\frac{1}{\\sqrt{2}} (v_3 +v_4)>=0$).   \n",
    "\n",
    "The representative matrix, $R_1$,  of the rotation  with respect to the basis $\\mathcal{B}''$ is derived from the matrix $D$ that represents the rotation with    respect to the basis $\\mathcal{B}'$, and the unitary matrix \n",
    "$$W = \\left(\\barr{cccc} 1&0&0&0\\\\\n",
    "                        0&1&0&0\\\\\n",
    "                        0&0& \\frac{1}{\\sqrt{2}}&\\frac{1}{i\\sqrt{2}}\\\\\n",
    "                        0&0& \\frac{1}{\\sqrt{2}}&-\\frac{1}{i\\sqrt{2}}\\earr\\right)$$\n",
    "whose columns are the  coordinates of the vectors $u_1, u_2, u_3, u_4$ with respect to the basis $\\mathcal{B}'$:\n",
    "$$R_1  = W \\left(\\barr{cccc} 1&0&0&0\\\\\n",
    "0&1&0&0\\\\\n",
    "0&0&\\cos(t)+i\\sin(t)&0\\\\\n",
    "0&0&0&\\cos(t)-i\\sin(t)\\earr\\right) W^*= \\left(\\barr{rrrr}1&0&0&0\\\\0&1&0&0\\\\\n",
    "                   0&0&\\cos(t)&\\sin(t)\\\\0&0&-\\sin(t)&\\cos(t)\\earr\\right)$$\n",
    "\n",
    " As a consequence \n",
    " the orthogonal decomposition of the rotation matrix $Q$,  is in this case,  $Q = U R_1 U^T$,\n",
    "where $U$ has on its columns the coordinates of the vectors $u_1, u_2, u_3, u_4$ with respect to the standard basis in $\\R^4$.\n",
    "\n",
    "**b)**  Analogously we get  the matrix $R_{-1}$ corresponding to the case  $\\lam_1, \\lam_2 = -1$ and$\\lam_4=\\ovl{\\lam}_3$, by replacing  the diagonal block $I_2$ in $R_1$ by  $-I_2$.\n",
    "\n",
    "**c)** If the eigenvalues of the matrix $Q$ are $\\lam_2=\\ovl{\\lam}_1$, $\\lam_4=\\ovl{\\lam}_3$, i.e. $\\lam_1,\\lam_2=\\cos(s)\\pm i\\sin(s)$, $\\lam_3, \\lam_4 = \\cos(t)\\pm i \\sin(t)$, $s, t \\in (-\\pi, \\pi)\\setminus\\{0\\}$, and the corresponding orthonormal basis of eigenvectors is  $\\mathcal{B}'=(v_1, \\ovl{v}_1, v_2, \\ovl{v}_2)$, then define the orthonormal real vectors:\n",
    "$$u_1 = \\ds\\frac{1}{\\sqrt{2}} (v_1 +\\ovl{v}_1), u_2 = \\ds\\frac{1}{i\\sqrt{2}} (v_1 -\\ovl{v}_1),\n",
    "u_3=\\ds\\frac{1}{\\sqrt{2}} (v_2 +\\ovl{v}_2), u_4 = \\ds\\frac{1}{i\\sqrt{2}} (v_2 -\\ovl{v}_2)$$\n",
    "that define a basis $\\mathcal{B}''$ in $\\R^4\\subset\\C^4$.\n",
    "\n",
    "The matrix of the initial rotation with respect to this basis, deduced similarly as in the previous case, is of the form:\n",
    "$$R_2=\\left(\\barr{rrrr}\\cos(s)&\\sin(s)&0&0\\\\-\\sin(s)&\\cos(s)&0&0\\\\0&0&\\cos(t)&\\sin(t)\\\\0&0&-\\sin(t)&\\cos(t)\\earr\\right)$$    \n",
    "and the corresponding orthogonal decomposition of the rotation $Q$ is:\n",
    "\n",
    "$$Q = U R_2 U^T,\\:\\:    U=[u_1|u_2|u_3|u_4]$$\n",
    "\n",
    "Hence the derivation of the orthogonal decomposition from the unitary decomposition of a rotation matrix exploited the property that the $\\R^4$-vectors of the pairs  $(real(v_i), real(v_j$, $(real(v_i), imag(v_j))$ associated to  complex eigenvectors  $v_i, v_j$, respectively\n",
    "$(real(v_i), imag(v_i)$, $i, j  =\\ovl{1,4,  i\\neq j$, are orthogonal vectors.\n",
    "\n",
    "**d)** If in **a)** and **b)**, t=0, we get  $Q =  V Id_4 V^*=Id_4$, respectively  $Q=-Id_4$."
   ]
  },
  {
   "cell_type": "markdown",
   "metadata": {},
   "source": [
    "Let us point out how a 4D rotation that contains $R_1$, respectively $R_2$, as the central matrix in its orthogonal decomposition acts on different subspaces of $\\R^4$."
   ]
  },
  {
   "cell_type": "markdown",
   "metadata": {},
   "source": [
    "- A 4d rotation matrix having the orthogonal decomposition $Q=UR_1U^T$ has the property that $Q(\\alpha_1 u_1+\\alpha_2u_2)=\\alpha_1 u_1+\\alpha_2u_2$, $\\alpha_1, \\alpha_2\\in\\R$,\n",
    "i.e.  the vectors of the subspace of $\\R^4$ generated by the first two columns in the matrix $U$, are fixed by the rotation $Q$.\n",
    "\n",
    "On the other hand the vectors in the subspace generated by the last two columns (i.e. the vectors in the orthogonal complement of the former subspace) are rotated by an angle of $t$ radians.  Such a rotation matrix defines a rotation about the plane\n",
    "defined by the origin $O$ and the vectors $u_1, u_2$. The fixed plane and the invariant plane (the rotated plane) are orthogonal. \n",
    "Hence, unlike the 3D rotation that occurs about an axis, in 4D we have rotations about a plane.\n",
    "\n",
    "- A 4d rotation of the form $Q=UR_2U^T$ is called double rotation, because it rotates both the vectors in the subspace generated by the first two columns in $U$\n",
    "and the vectors in the subspace generated by the last two columns of $U$.  If  the angles of rotation are equal, i.e. s=t, then Q is called  isoclinic rotation. "
   ]
  },
  {
   "cell_type": "markdown",
   "metadata": {},
   "source": [
    "Notice that from an  orthogonal decomposition of the form $Q=U R_2U^T$, we can recover any particular orthogonal decomposition, by setting suitable values for $s$ and $t$.\n",
    "\n",
    "- for $s=t=0$ we get $Q=Id_4$;\n",
    "- for $s=t=\\pi$, $Q=-I_4$;\n",
    "- for $s=0$, $t\\in (-\\pi, \\pi]\\setminus\\{0\\}$, $Q=U R_1U^T$;\n",
    "- for $s=\\pi$, $t\\in (-\\pi, \\pi]\\setminus\\{0\\}$, $Q=U R_{-1}U^T$, where  $R_{-1}$ is gotten from $R_1$, replacing the diagonal block $Id_2$, by $-Id_2$;\n",
    "- for $s, t \\in (-\\pi, \\pi]\\setminus\\{0\\}$, $Q=UR_2U^T$;\n",
    "\n",
    "That's why in `mobius3d` we defined a function `setup_rotation()`, which from particular values for s and t, and an orthogonal matrix $U$, returns the corresponding rotation matrix $Q=U R_2(s,t)U^T$."
   ]
  },
  {
   "cell_type": "code",
   "execution_count": null,
   "metadata": {},
   "outputs": [],
   "source": []
  }
 ],
 "metadata": {
  "kernelspec": {
   "display_name": "Python 3",
   "language": "python",
   "name": "python3"
  },
  "language_info": {
   "codemirror_mode": {
    "name": "ipython",
    "version": 3
   },
   "file_extension": ".py",
   "mimetype": "text/x-python",
   "name": "python",
   "nbconvert_exporter": "python",
   "pygments_lexer": "ipython3",
   "version": "3.7.3"
  }
 },
 "nbformat": 4,
 "nbformat_minor": 4
}
